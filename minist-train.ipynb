{
 "cells": [
  {
   "cell_type": "markdown",
   "metadata": {},
   "source": [
    "## 基础知识"
   ]
  },
  {
   "cell_type": "markdown",
   "metadata": {},
   "source": [
    "**安装环境**"
   ]
  },
  {
   "cell_type": "markdown",
   "metadata": {},
   "source": [
    "以pytorch为例，需要\n",
    "  - Python: 这个没什么好说的，深度学习领域最流行最广泛的编程语言  \n",
    "  - Numpy: 一个操作多维数组的库，速度很快。图像数据单通道单色图像是二维数组，三通道彩色图像是三维数组。  \n",
    "  - Matplotlib：一个二维图形库，这里主要用来显示图像  \n",
    "  - Opencv：intel发展的图形操作库，提供了很多图像操作的API  \n",
    "  - Pytorch: facebook开源的深度学习的平台  \n",
    "  - OS选择ubuntu，当前推荐1604LTS，原因无它，桌面支持最好的发行版，很多深度平台的推荐表中总是包含它。虽然这里选择ubuntu，但是所有的组件都是支持windows平台的。  \n"
   ]
  },
  {
   "cell_type": "markdown",
   "metadata": {},
   "source": [
    "各组件可以单独安装，但是推荐使用anaconda包形式。\n",
    ">anaconda是一个集成了很多的第三方包的虚拟python环境管理工具，下载后直接运行安装。省去了各种依赖包的安装和版本配合过程，最大优点是集成了jupyter/ipython直接用，很方便。anaconda提供conda形式的包管理器，和pip包管理器关联的很好，可以管理pip安装的软件包。"
   ]
  },
  {
   "cell_type": "markdown",
   "metadata": {},
   "source": [
    "##### Anaconda安装\n",
    "从continuum.io，根据OS/python情况下载合适版本。我们下载的是python2.7的。运行安装程序，默认安装目录是家目录下的anaconda目录，最后一步要输入yes让安装程序修改环境变量。注销重新登录生效环境变量设置，其实就是让anaconda目录下bin下的python代替系统原先安装的python。"
   ]
  },
  {
   "cell_type": "markdown",
   "metadata": {},
   "source": [
    "Anaconda自带python2.7和3.6环境，默认和系统的python版本相同。\n",
    "Anaconda有两种环境:\n",
    "  - 一种可以称为根环境，就是在没有启动任何虚拟环境之前的环境，先前生效的环境参数系统路径中指向到anaconda根目录下的bin目录\n",
    "  - 另一种是创建的虚拟环境。\n",
    "\n",
    "我们来创建一个虚拟环境"
   ]
  },
  {
   "cell_type": "markdown",
   "metadata": {},
   "source": [
    "在anaconda的envs目录下创建一个python2.7的环境\n",
    "> conda create –n pytorch\n",
    "\n",
    "在anaconda的envs目录下创建一个python3.6的环境\n",
    "> conda create –n pytorch python=3.6\n",
    "\n",
    "激活刚才创建的虚拟环境\n",
    "> source activate pytorch"
   ]
  },
  {
   "cell_type": "markdown",
   "metadata": {},
   "source": [
    "推荐使用虚拟环境方式，如果有其他需求，比如安装tensorflow，可以另外创建一个虚拟环境，互不干扰。\n",
    "\n",
    "退出当前的虚拟环境\n",
    "> deactivate pytorch\n",
    "\n",
    "安装所需的包，可以用\n",
    "> conda list\n",
    "\n",
    "查看anaconda内置的的包，然后从anaconda/lib/python2.7的site-package目录下把所需的包拷到envs目录下的虚拟环境目录的lib/python2.7/site-packages目录下，也可以使用\n",
    "> conda install (package name)\n",
    "\n",
    "安装，或者使用\n",
    "> pip install (package name)\n",
    "\n",
    "安装，使用conda search或者pip search查找特定的包。比如：\n",
    "> conda install -c menpo opencv3=3.2.0 \n",
    "\n",
    "或者\n",
    "> conda install -c menpo opencv=2.4.11\n",
    "\n",
    "会自动安装所需的其他依赖包。"
   ]
  },
  {
   "cell_type": "markdown",
   "metadata": {},
   "source": [
    "Pytorch，安装参见首页pytorch.org，有个生成器，如果没有cuda支持的话，安装脚本是：\n",
    "Conda install pytorch torchvision –c soumith\n",
    "\n",
    "jupyter关注notebook和qtconsole，前者基于浏览器，交互式代码执行环境，后者属于命令行式python运行环境。除python外，还支持多种编程语言。\n",
    "\n",
    "Pytorch附带指南和例子，指南是jupyter notebook格式的，从github.com/pytorch下载\n",
    "下载指南\n",
    "Git clone https://github.com/pytorch/tutorials\n",
    "下载pytorch源码\n",
    "Git clone https://github.com/pytorch/pytorch\n",
    "Git clone https://github.com/pytorch/vision\n",
    "是vision目录下，pytorch封装了一些数据集操作接口，可以参考这些接口，根据实际情况构造自己的数据集操作接口\n",
    "\n",
    "打开指南：\n",
    "首先进到指南所在目录:\n",
    "然后启动jupyter notebook\n",
    "启动进程会自动打开浏览器，在其中打开notebook目录\n",
    "\n",
    "Numpy\n",
    "当前基于深度学习平台的任务是图像处理，各种图像库读入的图像文件形式都是各种维度的多维数组，numpy是基于python的矩阵操作函数库。在处理图像时，常用的操作有：\n",
    "创建：\n",
    "import numpy as np\n",
    "a=np.empty((3,4),np.uint8)  #三行四列二维数组，byte类型，数值未初始化\n",
    "b=np.ones((3,4),np.uint8)   #三行四列二维数组，byte类型，数值初始化为0\n",
    "c=np.zeros((3,4),np.uint8)   #三行四列二维数组，byte类型，数值初始化为1\n",
    "d=np.full((3,4),5,np.uint8)  #三行四列二维数组，byte类型，数值初始化为指定值\n",
    "形状\n",
    "e=np.reshape(c,(1,3,4))\n",
    "f=np.reshape(c.copy(),(1,3,4))\n",
    "c.shape     #(3,4)\n",
    "e.shape      #(1,3,4)\n",
    "e.shape[1]    #3\n",
    "c[0][0]=1\n",
    "e[0][0][0]   #1\n",
    "截取\n",
    "g=d[1:2,1:]\n",
    "转换： \n",
    "h=d.T\n",
    "i=np.transpose(d)\n",
    "j=np.transpose(e,(1,0,2))\n",
    "e.shape\n",
    "j.shape\n",
    "k=squeeze(e)\n",
    "计算\n",
    "l=255-d\n",
    "m=d*3\n",
    "\n",
    "Opencv\n",
    "Intel发布的一个图形图像视频相关的库，api基于c++接口，也有诸如python，java等其他语言接口。最新版本是3.2。\n",
    "Opencv的图像显示是打开新的窗口显示，在jupyter notebook/qtconsole环境下无法显示，这里使用matplotlib库实现读入图像的显示。\n",
    "\n",
    "Import cv2\n",
    "import matplotlib.pyplot as plt\n",
    "\n",
    "def imshow(img):\n",
    "    s=img.shape\n",
    "    if len(s)>2:\n",
    "        b,g,r=cv2.split(img)\n",
    "        img=cv2.merge([r,g,b])\n",
    "    else:\n",
    "        img=cv2.cvtColor(img,cv2.COLOR_GRAY2RGB)\n",
    "    plt.imshow(img)\n",
    "    plt.show()\n",
    "\n",
    "Im=cv2.imread(fileandpathname)\n",
    "Im.shape\n",
    "Img=cv2.cvtColor(im,cv2.COLOR_BGR2GRAY)\n",
    "Img.shape\n",
    "\n",
    "\n",
    "\n",
    "Pytorch\n",
    "熟悉pytorch，可以先从tutorials的\n",
    "\n",
    "Minist\n",
    "来历，lecun，模型\n",
    "数据集格式\n"
   ]
  }
 ],
 "metadata": {
  "kernelspec": {
   "display_name": "Python 2",
   "language": "python",
   "name": "python2"
  },
  "language_info": {
   "codemirror_mode": {
    "name": "ipython",
    "version": 2
   },
   "file_extension": ".py",
   "mimetype": "text/x-python",
   "name": "python",
   "nbconvert_exporter": "python",
   "pygments_lexer": "ipython2",
   "version": "2.7.13"
  }
 },
 "nbformat": 4,
 "nbformat_minor": 2
}
